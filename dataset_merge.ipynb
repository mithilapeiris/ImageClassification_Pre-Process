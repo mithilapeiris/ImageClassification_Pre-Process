{
 "cells": [
  {
   "cell_type": "markdown",
   "metadata": {},
   "source": [
    "## Split test dataset\n",
    "### From train and valid (10%)"
   ]
  },
  {
   "cell_type": "code",
   "execution_count": 4,
   "metadata": {},
   "outputs": [
    {
     "name": "stdout",
     "output_type": "stream",
     "text": [
      "Test set created successfully!\n"
     ]
    }
   ],
   "source": [
    "import os\n",
    "import shutil\n",
    "import random\n",
    "\n",
    "# Define dataset paths (relative to current working directory)\n",
    "train_dir = \"train\"\n",
    "valid_dir = \"valid\"\n",
    "test_dir = \"test\"\n",
    "\n",
    "# Ensure test directory exists\n",
    "os.makedirs(test_dir, exist_ok=True)\n",
    "\n",
    "# Function to split dataset\n",
    "def split_data(source_dir, dest_dir, split_ratio=0.1):\n",
    "    for subclass in os.listdir(source_dir):\n",
    "        subclass_path = os.path.join(source_dir, subclass)\n",
    "        if os.path.isdir(subclass_path):  # Ensure it's a directory\n",
    "            dest_subclass_path = os.path.join(dest_dir, subclass)\n",
    "            os.makedirs(dest_subclass_path, exist_ok=True)\n",
    "            \n",
    "            files = os.listdir(subclass_path)\n",
    "            random.shuffle(files)  # Shuffle files for randomness\n",
    "            num_to_move = max(1, int(len(files) * split_ratio))  # Ensure at least one file\n",
    "\n",
    "            for file in files[:num_to_move]:\n",
    "                src_file = os.path.join(subclass_path, file)\n",
    "                dest_file = os.path.join(dest_subclass_path, file)\n",
    "                shutil.move(src_file, dest_file)\n",
    "\n",
    "# Process both train and valid sets\n",
    "split_data(train_dir, test_dir)\n",
    "split_data(valid_dir, test_dir)\n",
    "\n",
    "print(\"Test set created successfully!\")"
   ]
  },
  {
   "cell_type": "markdown",
   "metadata": {},
   "source": [
    "### Rename files with their class names"
   ]
  },
  {
   "cell_type": "code",
   "execution_count": null,
   "metadata": {},
   "outputs": [],
   "source": [
    "import os\n",
    "\n",
    "# Define directories\n",
    "directories = [\"test\", \"train\",\"valid\"]\n",
    "\n",
    "# Function to rename files\n",
    "def rename_files(directory):\n",
    "    for subclass in os.listdir(directory):\n",
    "        subclass_path = os.path.join(directory, subclass)\n",
    "        \n",
    "        if os.path.isdir(subclass_path):  # Ensure it's a directory\n",
    "            files = sorted(os.listdir(subclass_path))  # Sort to maintain order\n",
    "            for idx, file in enumerate(files, start=1):\n",
    "                old_file_path = os.path.join(subclass_path, file)\n",
    "                \n",
    "                # Extract file extension (to keep original format)\n",
    "                file_ext = os.path.splitext(file)[1]  \n",
    "                new_file_name = f\"{subclass}_{idx}{file_ext}\"\n",
    "                new_file_path = os.path.join(subclass_path, new_file_name)\n",
    "                \n",
    "                os.rename(old_file_path, new_file_path)\n",
    "\n",
    "# Process both test and valid directories\n",
    "for dir_name in directories:\n",
    "    rename_files(dir_name)\n",
    "\n",
    "print(\"Renaming completed successfully!\")"
   ]
  },
  {
   "cell_type": "markdown",
   "metadata": {},
   "source": [
    "### Rename all directories with dataset name"
   ]
  },
  {
   "cell_type": "code",
   "execution_count": 2,
   "metadata": {},
   "outputs": [
    {
     "name": "stdout",
     "output_type": "stream",
     "text": [
      "All subclass directories renamed successfully!\n"
     ]
    }
   ],
   "source": [
    "import os\n",
    "\n",
    "# Define directories\n",
    "directories = [\"train\", \"valid\", \"test\"]\n",
    "\n",
    "# Function to rename subclass directories\n",
    "def rename_subclass_dirs(directory):\n",
    "    for subclass in os.listdir(directory):\n",
    "        subclass_path = os.path.join(directory, subclass)\n",
    "        \n",
    "        if os.path.isdir(subclass_path) and not subclass.startswith(\"Tomato_\"):  # Ensure it's a directory and avoid re-renaming\n",
    "            new_subclass_name = f\"Tomato__{subclass}\"\n",
    "            new_subclass_path = os.path.join(directory, new_subclass_name)\n",
    "            os.rename(subclass_path, new_subclass_path)\n",
    "            print(f\"Renamed: {subclass} → {new_subclass_name}\")\n",
    "\n",
    "# Process train, valid, and test directories\n",
    "for dir_name in directories:\n",
    "    rename_subclass_dirs(dir_name)\n",
    "\n",
    "print(\"All subclass directories renamed successfully!\")"
   ]
  },
  {
   "cell_type": "code",
   "execution_count": null,
   "metadata": {},
   "outputs": [],
   "source": []
  }
 ],
 "metadata": {
  "kernelspec": {
   "display_name": "Python 3 (ipykernel)",
   "language": "python",
   "name": "python3"
  },
  "language_info": {
   "codemirror_mode": {
    "name": "ipython",
    "version": 3
   },
   "file_extension": ".py",
   "mimetype": "text/x-python",
   "name": "python",
   "nbconvert_exporter": "python",
   "pygments_lexer": "ipython3",
   "version": "3.10.8"
  }
 },
 "nbformat": 4,
 "nbformat_minor": 4
}
